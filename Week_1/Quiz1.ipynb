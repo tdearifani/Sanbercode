{
 "cells": [
  {
   "cell_type": "code",
   "execution_count": null,
   "metadata": {},
   "outputs": [],
   "source": [
    "#no 1\n",
    "\n",
    "list1 = ['a', 'b', 'c', 'd', 'f', 'g', 'h']\n",
    "list2 = ['a', 'b', 'c', 'd', 'e', 'f', 'g']\n",
    "list_new = [i for i in list1 and list2]\n",
    "list_new1 =[i for i in list1 and i in list2]\n",
    "print(list_new)\n",
    "print(list_new1)"
   ]
  },
  {
   "cell_type": "code",
   "execution_count": null,
   "metadata": {},
   "outputs": [],
   "source": [
    "# no 3\n",
    "barang = {'a': {'jumlah': 10, 'harga': 1000, 'diskon': 500},\n",
    "            'b': {'jumlah': 5, 'harga': 5000, 'diskon': 1000},\n",
    "            'c': {'jumlah': 2, 'harga': 10000, 'diskon': 5000}}\n",
    "            \n",
    "def sanbercode(a):\n",
    "    for k, v in a.items():\n",
    "        print('barang {0} memiliki harga {1} dengan diskon {2}'.format(k, v['harga'], v['diskon']))\n",
    "sanbercode(barang)"
   ]
  },
  {
   "cell_type": "code",
   "execution_count": 4,
   "metadata": {},
   "outputs": [
    {
     "name": "stdout",
     "output_type": "stream",
     "text": [
      "['a', 'b', 'c', 'd', 'f', 'g', 'h']\n"
     ]
    }
   ],
   "source": [
    "# no 5\n",
    "List1 = ['a', 'b', 'c', 'd', 'f', 'g', 'h']\n",
    "List2 = List1.copy()\n",
    "print(List2)"
   ]
  },
  {
   "cell_type": "code",
   "execution_count": 6,
   "metadata": {},
   "outputs": [
    {
     "name": "stdout",
     "output_type": "stream",
     "text": [
      "{'a': {'jumlah': 10, 'harga': 1000, 'diskon': 500}, 'b': {'jumlah': 5, 'harga': 5000, 'diskon': 1000}, 'c': {'jumlah': 2, 'harga': 10000, 'diskon': 5000}}\n"
     ]
    }
   ],
   "source": [
    "barang = {'a': {'jumlah': 10, 'harga': 1000, 'diskon': 500},\n",
    "            'b': {'jumlah': 5, 'harga': 5000, 'diskon': 1000},\n",
    "            'c': {'jumlah': 2, 'harga': 10000, 'diskon': 5000}}\n",
    "\n",
    "barang1 =barang.copy()\n",
    "print(barang1)"
   ]
  },
  {
   "cell_type": "code",
   "execution_count": 7,
   "metadata": {},
   "outputs": [
    {
     "name": "stdout",
     "output_type": "stream",
     "text": [
      "1993.0\n"
     ]
    },
    {
     "data": {
      "text/plain": [
       "NoneType"
      ]
     },
     "execution_count": 7,
     "metadata": {},
     "output_type": "execute_result"
    }
   ],
   "source": [
    " type(print(float('1993')))"
   ]
  },
  {
   "cell_type": "code",
   "execution_count": null,
   "metadata": {},
   "outputs": [],
   "source": []
  }
 ],
 "metadata": {
  "kernelspec": {
   "display_name": "Python 3",
   "language": "python",
   "name": "python3"
  },
  "language_info": {
   "codemirror_mode": {
    "name": "ipython",
    "version": 3
   },
   "file_extension": ".py",
   "mimetype": "text/x-python",
   "name": "python",
   "nbconvert_exporter": "python",
   "pygments_lexer": "ipython3",
   "version": "3.6.9"
  }
 },
 "nbformat": 4,
 "nbformat_minor": 2
}
